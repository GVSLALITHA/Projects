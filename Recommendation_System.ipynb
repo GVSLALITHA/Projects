{
  "nbformat": 4,
  "nbformat_minor": 0,
  "metadata": {
    "colab": {
      "provenance": [],
      "authorship_tag": "ABX9TyPPbT6fcrSpWmaj8ef8bKwu",
      "include_colab_link": true
    },
    "kernelspec": {
      "name": "python3",
      "display_name": "Python 3"
    },
    "language_info": {
      "name": "python"
    }
  },
  "cells": [
    {
      "cell_type": "markdown",
      "metadata": {
        "id": "view-in-github",
        "colab_type": "text"
      },
      "source": [
        "<a href=\"https://colab.research.google.com/github/GVSLALITHA/Projects/blob/main/Recommendation_System.ipynb\" target=\"_parent\"><img src=\"https://colab.research.google.com/assets/colab-badge.svg\" alt=\"Open In Colab\"/></a>"
      ]
    },
    {
      "cell_type": "code",
      "source": [
        "import streamlit as st\n",
        "import pandas as pd\n",
        "import nltk\n",
        "import string\n",
        "from sklearn.feature_extraction.text import TfidfVectorizer\n",
        "from sklearn.metrics.pairwise import cosine_similarity\n",
        "\n",
        "# Download stopwords from NLTK (Run once)\n",
        "nltk.download('stopwords')\n",
        "from nltk.corpus import stopwords\n",
        "\n",
        "# Load dataset\n",
        "df = pd.read_csv(\"/content/imdb_movies.csv\")\n",
        "\n",
        "# Text Preprocessing Function\n",
        "def preprocess_text(text):\n",
        "    text = text.lower()  # Convert to lowercase\n",
        "    text = text.translate(str.maketrans(\"\", \"\", string.punctuation))  # Remove punctuation\n",
        "    text = \" \".join([word for word in text.split() if word not in stopwords.words(\"english\")])  # Remove stopwords\n",
        "    return text\n",
        "\n",
        "# Apply preprocessing to all storylines\n",
        "df[\"Processed_Storyline\"] = df[\"Storyline\"].apply(preprocess_text)\n",
        "\n",
        "# TF-IDF Vectorization\n",
        "vectorizer = TfidfVectorizer()\n",
        "tfidf_matrix = vectorizer.fit_transform(df[\"Processed_Storyline\"])\n",
        "# Streamlit UI\n",
        "import streamlit as st\n",
        "\n",
        "st.title(\"🎬 Movie Recommendation System\")\n",
        "st.write(\"Enter a storyline, and we'll recommend movies with similar plots!\")\n",
        "\n",
        "# User input for storyline\n",
        "user_storyline = st.text_area(\"Enter a movie storyline:\", \"\")\n",
        "\n",
        "if st.button(\"Find Similar Movies\"):\n",
        "    if user_storyline.strip():\n",
        "        # Preprocess user input\n",
        "        processed_input = preprocess_text(user_storyline)\n",
        "\n",
        "        # Convert user input into a TF-IDF vector\n",
        "        user_vector = vectorizer.transform([processed_input])\n",
        "\n",
        "        # Compute similarity scores\n",
        "        similarity_scores = cosine_similarity(user_vector, tfidf_matrix).flatten()\n",
        "\n",
        "        # Get top 5 most similar movies\n",
        "        top_indices = similarity_scores.argsort()[-5:][::-1]\n",
        "        recommended_movies = df.iloc[top_indices][[\"Movie Name\", \"Storyline\"]]\n",
        "\n",
        "        # Display recommendations\n",
        "        st.subheader(\"Top 5 Similar Movies:\")\n",
        "        for i, row in recommended_movies.iterrows():\n",
        "            st.write(f\"🎬 **{row['Movie Name']}**\")\n",
        "            st.write(f\"📖 {row['Storyline']}\")\n",
        "            st.write(\"---\")\n",
        "    else:\n",
        "        st.warning(\"Please enter a storyline to get recommendations.\")\n",
        "\n",
        "\n"
      ],
      "metadata": {
        "colab": {
          "base_uri": "https://localhost:8080/"
        },
        "id": "bzCzYTX2I9lL",
        "outputId": "32b48bb3-f290-431a-99bf-2b0fcbac6919"
      },
      "execution_count": null,
      "outputs": [
        {
          "output_type": "stream",
          "name": "stderr",
          "text": [
            "[nltk_data] Downloading package stopwords to /root/nltk_data...\n",
            "[nltk_data]   Package stopwords is already up-to-date!\n"
          ]
        }
      ]
    },
    {
      "cell_type": "code",
      "source": [
        "! pip install streamlit -q\n"
      ],
      "metadata": {
        "id": "lNaSKcxfMNZj"
      },
      "execution_count": null,
      "outputs": []
    },
    {
      "cell_type": "code",
      "source": [
        "!wget -q -O - ipv4.icanhazip.com\n"
      ],
      "metadata": {
        "colab": {
          "base_uri": "https://localhost:8080/"
        },
        "id": "yPb_VheDMUV2",
        "outputId": "72402f07-24af-4bc0-c572-db7dbef6b129"
      },
      "execution_count": null,
      "outputs": [
        {
          "output_type": "stream",
          "name": "stdout",
          "text": [
            "35.196.102.78\n"
          ]
        }
      ]
    },
    {
      "cell_type": "code",
      "source": [
        "! streamlit run app.py & npx localtunnel --port 8501"
      ],
      "metadata": {
        "colab": {
          "base_uri": "https://localhost:8080/"
        },
        "id": "QIN3GyLlMWjO",
        "outputId": "84a224d4-2b1a-48d2-9353-105834d9f02d"
      },
      "execution_count": null,
      "outputs": [
        {
          "output_type": "stream",
          "name": "stdout",
          "text": [
            "\n",
            "Collecting usage statistics. To deactivate, set browser.gatherUsageStats to false.\n",
            "\u001b[0m\n",
            "\u001b[1G\u001b[0K⠙\u001b[1G\u001b[0K⠹\u001b[1G\u001b[0K⠸\u001b[0m\n",
            "\u001b[34m\u001b[1m  You can now view your Streamlit app in your browser.\u001b[0m\n",
            "\u001b[0m\n",
            "\u001b[34m  Local URL: \u001b[0m\u001b[1mhttp://localhost:8501\u001b[0m\n",
            "\u001b[34m  Network URL: \u001b[0m\u001b[1mhttp://172.28.0.12:8501\u001b[0m\n",
            "\u001b[34m  External URL: \u001b[0m\u001b[1mhttp://35.196.102.78:8501\u001b[0m\n",
            "\u001b[0m\n",
            "\u001b[1G\u001b[0K⠼\u001b[1G\u001b[0K⠴\u001b[1G\u001b[0Kyour url is: https://short-keys-scream.loca.lt\n",
            "[nltk_data] Downloading package stopwords to /root/nltk_data...\n",
            "[nltk_data]   Package stopwords is already up-to-date!\n",
            "[nltk_data] Downloading package stopwords to /root/nltk_data...\n",
            "[nltk_data]   Package stopwords is already up-to-date!\n",
            "[nltk_data] Downloading package stopwords to /root/nltk_data...\n",
            "[nltk_data]   Package stopwords is already up-to-date!\n",
            "\u001b[34m  Stopping...\u001b[0m\n",
            "^C\n"
          ]
        }
      ]
    },
    {
      "cell_type": "code",
      "source": [],
      "metadata": {
        "id": "L3WY2_7FLf7Q"
      },
      "execution_count": null,
      "outputs": []
    }
  ]
}